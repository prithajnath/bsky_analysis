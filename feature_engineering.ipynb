{
 "cells": [
  {
   "cell_type": "code",
   "execution_count": 1,
   "metadata": {
    "collapsed": true
   },
   "outputs": [],
   "source": [
    "import duckdb\n",
    "\n",
    "# connect to  DuckDB database file\n",
    "con = duckdb.connect(\"all_posts.duckdb\")\n",
    "\n",
    "# export first post date and body per user directly to a CSV\n",
    "con.execute(\"\"\"\n",
    "    COPY (\n",
    "        SELECT\n",
    "            a.author_did,\n",
    "            a.created_at AS first_post_created_at,\n",
    "            a.body AS first_post_body\n",
    "        FROM all_posts a\n",
    "        INNER JOIN (\n",
    "            SELECT\n",
    "                author_did,\n",
    "                MIN(created_at) AS first_post_created_at\n",
    "            FROM all_posts\n",
    "            GROUP BY author_did\n",
    "        ) b\n",
    "        ON a.author_did = b.author_did AND a.created_at = b.first_post_created_at\n",
    "    ) TO 'first_posts_per_user.csv' (HEADER, DELIMITER ',');\n",
    "\"\"\")\n",
    "\n",
    "con.close()\n"
   ]
  },
  {
   "cell_type": "code",
   "execution_count": 2,
   "outputs": [
    {
     "name": "stdout",
     "output_type": "stream",
     "text": [
      "CSV written: sample_users_with_first_posts.csv\n"
     ]
    }
   ],
   "source": [
    "import pandas as pd\n",
    "\n",
    "# load csvs\n",
    "users_df = pd.read_csv(\"sample_users.csv\")\n",
    "first_posts_df = pd.read_csv(\"first_posts_per_user.csv\")\n",
    "\n",
    "# merge on did\n",
    "merged_df = users_df.merge(\n",
    "    first_posts_df,\n",
    "    how=\"inner\",\n",
    "    left_on=\"did\",\n",
    "    right_on=\"author_did\"\n",
    ")\n",
    "\n",
    "#  cleanup\n",
    "merged_df = merged_df.drop(columns=[\"author_did\"])\n",
    "\n",
    "# Save final result\n",
    "merged_df.to_csv(\"sample_users_with_first_posts.csv\", index=False)\n",
    "print(\"CSV written: sample_users_with_first_posts.csv\")\n"
   ],
   "metadata": {
    "collapsed": false
   }
  },
  {
   "cell_type": "code",
   "execution_count": 3,
   "outputs": [
    {
     "name": "stdout",
     "output_type": "stream",
     "text": [
      "                                did                      handle  \\\n",
      "0  did:plc:ooehugjick2vkzwlr64lephm        haleaziz.bsky.social   \n",
      "1  did:plc:qy3kg6jvtlhenv5ojqurynwh     joshuacroke.bsky.social   \n",
      "2  did:plc:ibqwicj6ersmvw36yldikozx  inspiringtimmy.bsky.social   \n",
      "3  did:plc:f4ultoamz3y2m4drcjvhoecu  wilmonstouches.bsky.social   \n",
      "4  did:plc:yzhdirwmonvaezndwnssoosd      kerrieneet.bsky.social   \n",
      "\n",
      "                                                 bio               created_at  \\\n",
      "0  I cover DHS and immigration policy for the New...  2024-11-18 15:39:52.581   \n",
      "1  Founder of 🏳️‍🌈 queerforcities.com / 🌈loveyour...  2024-11-15 11:45:12.223   \n",
      "2  Best known for watching the Queen's Gambit fro...  2024-11-06 08:11:15.881   \n",
      "3  same name but not rosh‘s ex | #OMAR : ”oh, tha...  2024-11-15 17:01:25.026   \n",
      "4  Wild places in the SW and beyond. Where to go?...  2024-11-20 01:32:25.972   \n",
      "\n",
      "        first_post_created_at  \\\n",
      "0  2024-11-16 20:04:59.812-05   \n",
      "1  2024-11-15 07:36:53.045-05   \n",
      "2  2024-11-14 10:18:29.817-05   \n",
      "3  2024-11-15 17:20:49.418-05   \n",
      "4  2024-11-21 08:01:57.791-05   \n",
      "\n",
      "                                     first_post_body  \n",
      "0  If Trump-Miller-Homan want to shut down the ri...  \n",
      "1  A they/them here for good trouble and out to m...  \n",
      "2                     Foundations day 3\\n\\nlive now!  \n",
      "3  it‘s cuz the nice ones switched to here and th...  \n",
      "4                           I would love to be added  \n"
     ]
    }
   ],
   "source": [
    "import pandas as pd\n",
    "\n",
    "df = pd.read_csv(\"sample_users_with_first_posts.csv\")\n",
    "\n",
    "# Preview the first few rows\n",
    "print(df.head())\n"
   ],
   "metadata": {
    "collapsed": false
   }
  },
  {
   "cell_type": "code",
   "execution_count": 4,
   "outputs": [
    {
     "data": {
      "text/plain": "23465"
     },
     "execution_count": 4,
     "metadata": {},
     "output_type": "execute_result"
    }
   ],
   "source": [
    "len(df)"
   ],
   "metadata": {
    "collapsed": false
   }
  },
  {
   "cell_type": "code",
   "execution_count": 5,
   "outputs": [
    {
     "name": "stdout",
     "output_type": "stream",
     "text": [
      "Total users with a first post: 23465\n"
     ]
    }
   ],
   "source": [],
   "metadata": {
    "collapsed": false
   }
  },
  {
   "cell_type": "code",
   "execution_count": null,
   "outputs": [],
   "source": [],
   "metadata": {
    "collapsed": false
   }
  }
 ],
 "metadata": {
  "kernelspec": {
   "display_name": "Python 3",
   "language": "python",
   "name": "python3"
  },
  "language_info": {
   "codemirror_mode": {
    "name": "ipython",
    "version": 2
   },
   "file_extension": ".py",
   "mimetype": "text/x-python",
   "name": "python",
   "nbconvert_exporter": "python",
   "pygments_lexer": "ipython2",
   "version": "2.7.6"
  }
 },
 "nbformat": 4,
 "nbformat_minor": 0
}
