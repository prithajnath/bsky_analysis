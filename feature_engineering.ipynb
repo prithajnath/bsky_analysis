{
 "cells": [
  {
   "cell_type": "code",
   "execution_count": 13,
   "metadata": {
    "collapsed": true
   },
   "outputs": [
    {
     "data": {
      "text/plain": "FloatProgress(value=0.0, layout=Layout(width='auto'), style=ProgressStyle(bar_color='black'))",
      "application/vnd.jupyter.widget-view+json": {
       "version_major": 2,
       "version_minor": 0,
       "model_id": "9bcea809a6104a88882569d6b38ea3ed"
      }
     },
     "metadata": {},
     "output_type": "display_data"
    }
   ],
   "source": [
    "import duckdb\n",
    "\n",
    "# connect to DuckDB database file\n",
    "con = duckdb.connect(\"all_posts.duckdb\")\n",
    "\n",
    "# export first post date and body per user, deduplicated\n",
    "con.execute(\"\"\"\n",
    "    COPY (\n",
    "        SELECT author_did, created_at AS first_post_created_at, body AS first_post_body\n",
    "        FROM (\n",
    "            SELECT\n",
    "                author_did,\n",
    "                created_at,\n",
    "                body,\n",
    "                ROW_NUMBER() OVER (PARTITION BY author_did ORDER BY created_at ASC) AS rn\n",
    "            FROM all_posts\n",
    "        )\n",
    "        WHERE rn = 1\n",
    "    ) TO 'first_posts_per_user.csv' (HEADER, DELIMITER ',');\n",
    "\"\"\")\n",
    "\n",
    "con.close()\n"
   ]
  },
  {
   "cell_type": "code",
   "execution_count": 14,
   "outputs": [
    {
     "name": "stdout",
     "output_type": "stream",
     "text": [
      "CSV written: sample_users_with_first_posts.csv\n"
     ]
    }
   ],
   "source": [
    "import pandas as pd\n",
    "\n",
    "# load csvs\n",
    "users_df = pd.read_csv(\"sample_users.csv\")\n",
    "first_posts_df = pd.read_csv(\"first_posts_per_user.csv\")\n",
    "\n",
    "# merge on did\n",
    "merged_df = users_df.merge(\n",
    "    first_posts_df,\n",
    "    how=\"inner\",\n",
    "    left_on=\"did\",\n",
    "    right_on=\"author_did\"\n",
    ")\n",
    "\n",
    "#  cleanup\n",
    "merged_df = merged_df.drop(columns=[\"author_did\"])\n",
    "\n",
    "# Save final result\n",
    "merged_df.to_csv(\"sample_users_with_first_posts.csv\", index=False)\n",
    "print(\"CSV written: sample_users_with_first_posts.csv\")\n"
   ],
   "metadata": {
    "collapsed": false
   }
  },
  {
   "cell_type": "code",
   "execution_count": 15,
   "outputs": [
    {
     "name": "stdout",
     "output_type": "stream",
     "text": [
      "                                did                      handle  \\\n",
      "0  did:plc:ooehugjick2vkzwlr64lephm        haleaziz.bsky.social   \n",
      "1  did:plc:qy3kg6jvtlhenv5ojqurynwh     joshuacroke.bsky.social   \n",
      "2  did:plc:ibqwicj6ersmvw36yldikozx  inspiringtimmy.bsky.social   \n",
      "3  did:plc:f4ultoamz3y2m4drcjvhoecu  wilmonstouches.bsky.social   \n",
      "4  did:plc:yzhdirwmonvaezndwnssoosd      kerrieneet.bsky.social   \n",
      "\n",
      "                                                 bio               created_at  \\\n",
      "0  I cover DHS and immigration policy for the New...  2024-11-18 15:39:52.581   \n",
      "1  Founder of 🏳️‍🌈 queerforcities.com / 🌈loveyour...  2024-11-15 11:45:12.223   \n",
      "2  Best known for watching the Queen's Gambit fro...  2024-11-06 08:11:15.881   \n",
      "3  same name but not rosh‘s ex | #OMAR : ”oh, tha...  2024-11-15 17:01:25.026   \n",
      "4  Wild places in the SW and beyond. Where to go?...  2024-11-20 01:32:25.972   \n",
      "\n",
      "        first_post_created_at  \\\n",
      "0  2024-11-16 20:04:59.812-05   \n",
      "1  2024-11-15 07:36:53.045-05   \n",
      "2  2024-11-14 10:18:29.817-05   \n",
      "3  2024-11-15 17:20:49.418-05   \n",
      "4  2024-11-21 08:01:57.791-05   \n",
      "\n",
      "                                     first_post_body  \n",
      "0  If Trump-Miller-Homan want to shut down the ri...  \n",
      "1  A they/them here for good trouble and out to m...  \n",
      "2                     Foundations day 3\\n\\nlive now!  \n",
      "3  it‘s cuz the nice ones switched to here and th...  \n",
      "4                           I would love to be added  \n"
     ]
    }
   ],
   "source": [
    "import pandas as pd\n",
    "\n",
    "df = pd.read_csv(\"sample_users_with_first_posts.csv\")\n",
    "\n",
    "print(df.head())\n"
   ],
   "metadata": {
    "collapsed": false
   }
  },
  {
   "cell_type": "code",
   "execution_count": 16,
   "outputs": [
    {
     "data": {
      "text/plain": "23335"
     },
     "execution_count": 16,
     "metadata": {},
     "output_type": "execute_result"
    }
   ],
   "source": [
    "len(df)"
   ],
   "metadata": {
    "collapsed": false
   }
  },
  {
   "cell_type": "code",
   "execution_count": 17,
   "outputs": [
    {
     "data": {
      "text/plain": "                                    did                      handle  \\\n0      did:plc:ooehugjick2vkzwlr64lephm        haleaziz.bsky.social   \n1      did:plc:qy3kg6jvtlhenv5ojqurynwh     joshuacroke.bsky.social   \n2      did:plc:ibqwicj6ersmvw36yldikozx  inspiringtimmy.bsky.social   \n3      did:plc:f4ultoamz3y2m4drcjvhoecu  wilmonstouches.bsky.social   \n4      did:plc:yzhdirwmonvaezndwnssoosd      kerrieneet.bsky.social   \n...                                 ...                         ...   \n23330  did:plc:67yljp3x2ggfmtouqhzm23ax     quigonejinn.bsky.social   \n23331  did:plc:64vgrlkpc25gq7dzgv4wk4fz     raywillmott.bsky.social   \n23332  did:plc:ld6amztvyqa6dkyfpuw7agz3        madrigal.bsky.social   \n23333  did:plc:ifcposy3e6frphvetobi7mva       foxpopvli.bsky.social   \n23334  did:plc:tdque7aiu4isr7w2ykaxmidz    jayhulmepoet.bsky.social   \n\n                                                     bio  \\\n0      I cover DHS and immigration policy for the New...   \n1      Founder of 🏳️‍🌈 queerforcities.com / 🌈loveyour...   \n2      Best known for watching the Queen's Gambit fro...   \n3      same name but not rosh‘s ex | #OMAR : ”oh, tha...   \n4      Wild places in the SW and beyond. Where to go?...   \n...                                                  ...   \n23330                                                NaN   \n23331  Some Welsh Brand Manager in games @rawfury.bsk...   \n23332  I have a shiny, smooth coat and a precise, int...   \n23333  🔸 Anthros, Cars and Nostalgia\\n🔸 100% Natural ...   \n23334  Poet. Speaker. Educator. Performer. Adult, YA,...   \n\n                    created_at       first_post_created_at  \\\n0      2024-11-18 15:39:52.581  2024-11-16 20:04:59.812-05   \n1      2024-11-15 11:45:12.223  2024-11-15 07:36:53.045-05   \n2      2024-11-06 08:11:15.881  2024-11-14 10:18:29.817-05   \n3      2024-11-15 17:01:25.026  2024-11-15 17:20:49.418-05   \n4      2024-11-20 01:32:25.972  2024-11-21 08:01:57.791-05   \n...                        ...                         ...   \n23330  2023-07-25 19:58:17.493      2021-08-13 10:03:56-04   \n23331  2023-07-23 23:19:36.113  2023-07-26 18:24:00.221-04   \n23332  2023-07-04 16:56:13.032  2023-05-04 10:50:34.133-04   \n23333  2023-07-19 23:27:01.452  2023-07-04 08:53:40.821-04   \n23334  2023-07-04 11:39:24.158      2023-01-30 05:09:09-05   \n\n                                         first_post_body  \n0      If Trump-Miller-Homan want to shut down the ri...  \n1      A they/them here for good trouble and out to m...  \n2                         Foundations day 3\\n\\nlive now!  \n3      it‘s cuz the nice ones switched to here and th...  \n4                               I would love to be added  \n...                                                  ...  \n23330  and yeah, I believe, deeply, that’s the kind o...  \n23331  Made a curry tonight. One mouthful later and I...  \n23332  Being an earthworm would be awesome. If you ge...  \n23333                    The fox waifu <3\\n\\n#art #furry  \n23334  “Look, I just don’t understand how Charles is ...  \n\n[23335 rows x 6 columns]",
      "text/html": "<div>\n<style scoped>\n    .dataframe tbody tr th:only-of-type {\n        vertical-align: middle;\n    }\n\n    .dataframe tbody tr th {\n        vertical-align: top;\n    }\n\n    .dataframe thead th {\n        text-align: right;\n    }\n</style>\n<table border=\"1\" class=\"dataframe\">\n  <thead>\n    <tr style=\"text-align: right;\">\n      <th></th>\n      <th>did</th>\n      <th>handle</th>\n      <th>bio</th>\n      <th>created_at</th>\n      <th>first_post_created_at</th>\n      <th>first_post_body</th>\n    </tr>\n  </thead>\n  <tbody>\n    <tr>\n      <th>0</th>\n      <td>did:plc:ooehugjick2vkzwlr64lephm</td>\n      <td>haleaziz.bsky.social</td>\n      <td>I cover DHS and immigration policy for the New...</td>\n      <td>2024-11-18 15:39:52.581</td>\n      <td>2024-11-16 20:04:59.812-05</td>\n      <td>If Trump-Miller-Homan want to shut down the ri...</td>\n    </tr>\n    <tr>\n      <th>1</th>\n      <td>did:plc:qy3kg6jvtlhenv5ojqurynwh</td>\n      <td>joshuacroke.bsky.social</td>\n      <td>Founder of 🏳️‍🌈 queerforcities.com / 🌈loveyour...</td>\n      <td>2024-11-15 11:45:12.223</td>\n      <td>2024-11-15 07:36:53.045-05</td>\n      <td>A they/them here for good trouble and out to m...</td>\n    </tr>\n    <tr>\n      <th>2</th>\n      <td>did:plc:ibqwicj6ersmvw36yldikozx</td>\n      <td>inspiringtimmy.bsky.social</td>\n      <td>Best known for watching the Queen's Gambit fro...</td>\n      <td>2024-11-06 08:11:15.881</td>\n      <td>2024-11-14 10:18:29.817-05</td>\n      <td>Foundations day 3\\n\\nlive now!</td>\n    </tr>\n    <tr>\n      <th>3</th>\n      <td>did:plc:f4ultoamz3y2m4drcjvhoecu</td>\n      <td>wilmonstouches.bsky.social</td>\n      <td>same name but not rosh‘s ex | #OMAR : ”oh, tha...</td>\n      <td>2024-11-15 17:01:25.026</td>\n      <td>2024-11-15 17:20:49.418-05</td>\n      <td>it‘s cuz the nice ones switched to here and th...</td>\n    </tr>\n    <tr>\n      <th>4</th>\n      <td>did:plc:yzhdirwmonvaezndwnssoosd</td>\n      <td>kerrieneet.bsky.social</td>\n      <td>Wild places in the SW and beyond. Where to go?...</td>\n      <td>2024-11-20 01:32:25.972</td>\n      <td>2024-11-21 08:01:57.791-05</td>\n      <td>I would love to be added</td>\n    </tr>\n    <tr>\n      <th>...</th>\n      <td>...</td>\n      <td>...</td>\n      <td>...</td>\n      <td>...</td>\n      <td>...</td>\n      <td>...</td>\n    </tr>\n    <tr>\n      <th>23330</th>\n      <td>did:plc:67yljp3x2ggfmtouqhzm23ax</td>\n      <td>quigonejinn.bsky.social</td>\n      <td>NaN</td>\n      <td>2023-07-25 19:58:17.493</td>\n      <td>2021-08-13 10:03:56-04</td>\n      <td>and yeah, I believe, deeply, that’s the kind o...</td>\n    </tr>\n    <tr>\n      <th>23331</th>\n      <td>did:plc:64vgrlkpc25gq7dzgv4wk4fz</td>\n      <td>raywillmott.bsky.social</td>\n      <td>Some Welsh Brand Manager in games @rawfury.bsk...</td>\n      <td>2023-07-23 23:19:36.113</td>\n      <td>2023-07-26 18:24:00.221-04</td>\n      <td>Made a curry tonight. One mouthful later and I...</td>\n    </tr>\n    <tr>\n      <th>23332</th>\n      <td>did:plc:ld6amztvyqa6dkyfpuw7agz3</td>\n      <td>madrigal.bsky.social</td>\n      <td>I have a shiny, smooth coat and a precise, int...</td>\n      <td>2023-07-04 16:56:13.032</td>\n      <td>2023-05-04 10:50:34.133-04</td>\n      <td>Being an earthworm would be awesome. If you ge...</td>\n    </tr>\n    <tr>\n      <th>23333</th>\n      <td>did:plc:ifcposy3e6frphvetobi7mva</td>\n      <td>foxpopvli.bsky.social</td>\n      <td>🔸 Anthros, Cars and Nostalgia\\n🔸 100% Natural ...</td>\n      <td>2023-07-19 23:27:01.452</td>\n      <td>2023-07-04 08:53:40.821-04</td>\n      <td>The fox waifu &lt;3\\n\\n#art #furry</td>\n    </tr>\n    <tr>\n      <th>23334</th>\n      <td>did:plc:tdque7aiu4isr7w2ykaxmidz</td>\n      <td>jayhulmepoet.bsky.social</td>\n      <td>Poet. Speaker. Educator. Performer. Adult, YA,...</td>\n      <td>2023-07-04 11:39:24.158</td>\n      <td>2023-01-30 05:09:09-05</td>\n      <td>“Look, I just don’t understand how Charles is ...</td>\n    </tr>\n  </tbody>\n</table>\n<p>23335 rows × 6 columns</p>\n</div>"
     },
     "execution_count": 17,
     "metadata": {},
     "output_type": "execute_result"
    }
   ],
   "source": [
    "df"
   ],
   "metadata": {
    "collapsed": false
   }
  },
  {
   "cell_type": "code",
   "execution_count": 18,
   "outputs": [],
   "source": [
    "df_features = df.copy()"
   ],
   "metadata": {
    "collapsed": false
   }
  },
  {
   "cell_type": "code",
   "execution_count": 19,
   "outputs": [],
   "source": [
    "# bio length\n",
    "df_features['bio length'] = df_features['bio'].str.len()"
   ],
   "metadata": {
    "collapsed": false
   }
  },
  {
   "cell_type": "code",
   "execution_count": 21,
   "outputs": [],
   "source": [
    "# first post body length\n",
    "df_features['first post body length'] = df_features['first_post_body'].str.len()"
   ],
   "metadata": {
    "collapsed": false
   }
  },
  {
   "cell_type": "code",
   "execution_count": 23,
   "outputs": [],
   "source": [
    "# bio_has_emoji, bio_emoji_count, post_has_emoji, post_emoji_count\n",
    "\n",
    "import pandas as pd\n",
    "import re\n",
    "\n",
    "# emoji pattern (covers most common emoji ranges apparently)\n",
    "emoji_pattern = re.compile(\n",
    "    \"[\\U0001F600-\\U0001F64F\"  # emoticons\n",
    "    \"\\U0001F300-\\U0001F5FF\"  # symbols & pictographs\n",
    "    \"\\U0001F680-\\U0001F6FF\"  # transport & map symbols\n",
    "    \"\\U0001F1E0-\\U0001F1FF\"  # flags\n",
    "    \"\\U00002700-\\U000027BF\"  # dingbats\n",
    "    \"\\U000024C2-\\U0001F251\"  # enclosed characters\n",
    "    \"]+\", flags=re.UNICODE\n",
    ")\n",
    "\n",
    "# function to count emojis\n",
    "def count_emojis(text):\n",
    "    if pd.isnull(text):\n",
    "        return 0\n",
    "    return len(emoji_pattern.findall(text))\n",
    "\n",
    "# function to check if an emoji exiss\n",
    "def has_emoji(text):\n",
    "    if pd.isnull(text):\n",
    "        return 0\n",
    "    return 1 if emoji_pattern.search(text) else 0\n",
    "\n",
    "# Apply to bio\n",
    "df_features['bio_has_emoji'] = df_features['bio'].apply(has_emoji)\n",
    "df_features['bio_emoji_count'] = df_features['bio'].apply(count_emojis)\n",
    "\n",
    "# Apply to first_post_body\n",
    "df_features['post_has_emoji'] = df_features['first_post_body'].apply(has_emoji)\n",
    "df_features['post_emoji_count'] = df_features['first_post_body'].apply(count_emojis)\n"
   ],
   "metadata": {
    "collapsed": false
   }
  },
  {
   "cell_type": "code",
   "execution_count": 24,
   "outputs": [
    {
     "data": {
      "text/plain": "                                    did                      handle  \\\n0      did:plc:ooehugjick2vkzwlr64lephm        haleaziz.bsky.social   \n1      did:plc:qy3kg6jvtlhenv5ojqurynwh     joshuacroke.bsky.social   \n2      did:plc:ibqwicj6ersmvw36yldikozx  inspiringtimmy.bsky.social   \n3      did:plc:f4ultoamz3y2m4drcjvhoecu  wilmonstouches.bsky.social   \n4      did:plc:yzhdirwmonvaezndwnssoosd      kerrieneet.bsky.social   \n...                                 ...                         ...   \n23330  did:plc:67yljp3x2ggfmtouqhzm23ax     quigonejinn.bsky.social   \n23331  did:plc:64vgrlkpc25gq7dzgv4wk4fz     raywillmott.bsky.social   \n23332  did:plc:ld6amztvyqa6dkyfpuw7agz3        madrigal.bsky.social   \n23333  did:plc:ifcposy3e6frphvetobi7mva       foxpopvli.bsky.social   \n23334  did:plc:tdque7aiu4isr7w2ykaxmidz    jayhulmepoet.bsky.social   \n\n                                                     bio  \\\n0      I cover DHS and immigration policy for the New...   \n1      Founder of 🏳️‍🌈 queerforcities.com / 🌈loveyour...   \n2      Best known for watching the Queen's Gambit fro...   \n3      same name but not rosh‘s ex | #OMAR : ”oh, tha...   \n4      Wild places in the SW and beyond. Where to go?...   \n...                                                  ...   \n23330                                                NaN   \n23331  Some Welsh Brand Manager in games @rawfury.bsk...   \n23332  I have a shiny, smooth coat and a precise, int...   \n23333  🔸 Anthros, Cars and Nostalgia\\n🔸 100% Natural ...   \n23334  Poet. Speaker. Educator. Performer. Adult, YA,...   \n\n                    created_at       first_post_created_at  \\\n0      2024-11-18 15:39:52.581  2024-11-16 20:04:59.812-05   \n1      2024-11-15 11:45:12.223  2024-11-15 07:36:53.045-05   \n2      2024-11-06 08:11:15.881  2024-11-14 10:18:29.817-05   \n3      2024-11-15 17:01:25.026  2024-11-15 17:20:49.418-05   \n4      2024-11-20 01:32:25.972  2024-11-21 08:01:57.791-05   \n...                        ...                         ...   \n23330  2023-07-25 19:58:17.493      2021-08-13 10:03:56-04   \n23331  2023-07-23 23:19:36.113  2023-07-26 18:24:00.221-04   \n23332  2023-07-04 16:56:13.032  2023-05-04 10:50:34.133-04   \n23333  2023-07-19 23:27:01.452  2023-07-04 08:53:40.821-04   \n23334  2023-07-04 11:39:24.158      2023-01-30 05:09:09-05   \n\n                                         first_post_body  bio length  \\\n0      If Trump-Miller-Homan want to shut down the ri...       102.0   \n1      A they/them here for good trouble and out to m...       219.0   \n2                         Foundations day 3\\n\\nlive now!       230.0   \n3      it‘s cuz the nice ones switched to here and th...       126.0   \n4                               I would love to be added       255.0   \n...                                                  ...         ...   \n23330  and yeah, I believe, deeply, that’s the kind o...         NaN   \n23331  Made a curry tonight. One mouthful later and I...       143.0   \n23332  Being an earthworm would be awesome. If you ge...       186.0   \n23333                    The fox waifu <3\\n\\n#art #furry       101.0   \n23334  “Look, I just don’t understand how Charles is ...       173.0   \n\n       first post body length  bio_has_emoji  bio_emoji_count  post_has_emoji  \\\n0                       299.0              0                0               0   \n1                       300.0              1                9               1   \n2                        28.0              0                0               0   \n3                        71.0              0                0               0   \n4                        24.0              0                0               0   \n...                       ...            ...              ...             ...   \n23330                   256.0              0                0               0   \n23331                   124.0              0                0               1   \n23332                   129.0              0                0               0   \n23333                    29.0              1                3               0   \n23334                   131.0              0                0               0   \n\n       post_emoji_count  \n0                     0  \n1                     6  \n2                     0  \n3                     0  \n4                     0  \n...                 ...  \n23330                 0  \n23331                 1  \n23332                 0  \n23333                 0  \n23334                 0  \n\n[23335 rows x 12 columns]",
      "text/html": "<div>\n<style scoped>\n    .dataframe tbody tr th:only-of-type {\n        vertical-align: middle;\n    }\n\n    .dataframe tbody tr th {\n        vertical-align: top;\n    }\n\n    .dataframe thead th {\n        text-align: right;\n    }\n</style>\n<table border=\"1\" class=\"dataframe\">\n  <thead>\n    <tr style=\"text-align: right;\">\n      <th></th>\n      <th>did</th>\n      <th>handle</th>\n      <th>bio</th>\n      <th>created_at</th>\n      <th>first_post_created_at</th>\n      <th>first_post_body</th>\n      <th>bio length</th>\n      <th>first post body length</th>\n      <th>bio_has_emoji</th>\n      <th>bio_emoji_count</th>\n      <th>post_has_emoji</th>\n      <th>post_emoji_count</th>\n    </tr>\n  </thead>\n  <tbody>\n    <tr>\n      <th>0</th>\n      <td>did:plc:ooehugjick2vkzwlr64lephm</td>\n      <td>haleaziz.bsky.social</td>\n      <td>I cover DHS and immigration policy for the New...</td>\n      <td>2024-11-18 15:39:52.581</td>\n      <td>2024-11-16 20:04:59.812-05</td>\n      <td>If Trump-Miller-Homan want to shut down the ri...</td>\n      <td>102.0</td>\n      <td>299.0</td>\n      <td>0</td>\n      <td>0</td>\n      <td>0</td>\n      <td>0</td>\n    </tr>\n    <tr>\n      <th>1</th>\n      <td>did:plc:qy3kg6jvtlhenv5ojqurynwh</td>\n      <td>joshuacroke.bsky.social</td>\n      <td>Founder of 🏳️‍🌈 queerforcities.com / 🌈loveyour...</td>\n      <td>2024-11-15 11:45:12.223</td>\n      <td>2024-11-15 07:36:53.045-05</td>\n      <td>A they/them here for good trouble and out to m...</td>\n      <td>219.0</td>\n      <td>300.0</td>\n      <td>1</td>\n      <td>9</td>\n      <td>1</td>\n      <td>6</td>\n    </tr>\n    <tr>\n      <th>2</th>\n      <td>did:plc:ibqwicj6ersmvw36yldikozx</td>\n      <td>inspiringtimmy.bsky.social</td>\n      <td>Best known for watching the Queen's Gambit fro...</td>\n      <td>2024-11-06 08:11:15.881</td>\n      <td>2024-11-14 10:18:29.817-05</td>\n      <td>Foundations day 3\\n\\nlive now!</td>\n      <td>230.0</td>\n      <td>28.0</td>\n      <td>0</td>\n      <td>0</td>\n      <td>0</td>\n      <td>0</td>\n    </tr>\n    <tr>\n      <th>3</th>\n      <td>did:plc:f4ultoamz3y2m4drcjvhoecu</td>\n      <td>wilmonstouches.bsky.social</td>\n      <td>same name but not rosh‘s ex | #OMAR : ”oh, tha...</td>\n      <td>2024-11-15 17:01:25.026</td>\n      <td>2024-11-15 17:20:49.418-05</td>\n      <td>it‘s cuz the nice ones switched to here and th...</td>\n      <td>126.0</td>\n      <td>71.0</td>\n      <td>0</td>\n      <td>0</td>\n      <td>0</td>\n      <td>0</td>\n    </tr>\n    <tr>\n      <th>4</th>\n      <td>did:plc:yzhdirwmonvaezndwnssoosd</td>\n      <td>kerrieneet.bsky.social</td>\n      <td>Wild places in the SW and beyond. Where to go?...</td>\n      <td>2024-11-20 01:32:25.972</td>\n      <td>2024-11-21 08:01:57.791-05</td>\n      <td>I would love to be added</td>\n      <td>255.0</td>\n      <td>24.0</td>\n      <td>0</td>\n      <td>0</td>\n      <td>0</td>\n      <td>0</td>\n    </tr>\n    <tr>\n      <th>...</th>\n      <td>...</td>\n      <td>...</td>\n      <td>...</td>\n      <td>...</td>\n      <td>...</td>\n      <td>...</td>\n      <td>...</td>\n      <td>...</td>\n      <td>...</td>\n      <td>...</td>\n      <td>...</td>\n      <td>...</td>\n    </tr>\n    <tr>\n      <th>23330</th>\n      <td>did:plc:67yljp3x2ggfmtouqhzm23ax</td>\n      <td>quigonejinn.bsky.social</td>\n      <td>NaN</td>\n      <td>2023-07-25 19:58:17.493</td>\n      <td>2021-08-13 10:03:56-04</td>\n      <td>and yeah, I believe, deeply, that’s the kind o...</td>\n      <td>NaN</td>\n      <td>256.0</td>\n      <td>0</td>\n      <td>0</td>\n      <td>0</td>\n      <td>0</td>\n    </tr>\n    <tr>\n      <th>23331</th>\n      <td>did:plc:64vgrlkpc25gq7dzgv4wk4fz</td>\n      <td>raywillmott.bsky.social</td>\n      <td>Some Welsh Brand Manager in games @rawfury.bsk...</td>\n      <td>2023-07-23 23:19:36.113</td>\n      <td>2023-07-26 18:24:00.221-04</td>\n      <td>Made a curry tonight. One mouthful later and I...</td>\n      <td>143.0</td>\n      <td>124.0</td>\n      <td>0</td>\n      <td>0</td>\n      <td>1</td>\n      <td>1</td>\n    </tr>\n    <tr>\n      <th>23332</th>\n      <td>did:plc:ld6amztvyqa6dkyfpuw7agz3</td>\n      <td>madrigal.bsky.social</td>\n      <td>I have a shiny, smooth coat and a precise, int...</td>\n      <td>2023-07-04 16:56:13.032</td>\n      <td>2023-05-04 10:50:34.133-04</td>\n      <td>Being an earthworm would be awesome. If you ge...</td>\n      <td>186.0</td>\n      <td>129.0</td>\n      <td>0</td>\n      <td>0</td>\n      <td>0</td>\n      <td>0</td>\n    </tr>\n    <tr>\n      <th>23333</th>\n      <td>did:plc:ifcposy3e6frphvetobi7mva</td>\n      <td>foxpopvli.bsky.social</td>\n      <td>🔸 Anthros, Cars and Nostalgia\\n🔸 100% Natural ...</td>\n      <td>2023-07-19 23:27:01.452</td>\n      <td>2023-07-04 08:53:40.821-04</td>\n      <td>The fox waifu &lt;3\\n\\n#art #furry</td>\n      <td>101.0</td>\n      <td>29.0</td>\n      <td>1</td>\n      <td>3</td>\n      <td>0</td>\n      <td>0</td>\n    </tr>\n    <tr>\n      <th>23334</th>\n      <td>did:plc:tdque7aiu4isr7w2ykaxmidz</td>\n      <td>jayhulmepoet.bsky.social</td>\n      <td>Poet. Speaker. Educator. Performer. Adult, YA,...</td>\n      <td>2023-07-04 11:39:24.158</td>\n      <td>2023-01-30 05:09:09-05</td>\n      <td>“Look, I just don’t understand how Charles is ...</td>\n      <td>173.0</td>\n      <td>131.0</td>\n      <td>0</td>\n      <td>0</td>\n      <td>0</td>\n      <td>0</td>\n    </tr>\n  </tbody>\n</table>\n<p>23335 rows × 12 columns</p>\n</div>"
     },
     "execution_count": 24,
     "metadata": {},
     "output_type": "execute_result"
    }
   ],
   "source": [
    "df_features"
   ],
   "metadata": {
    "collapsed": false
   }
  },
  {
   "cell_type": "code",
   "execution_count": 28,
   "outputs": [],
   "source": [
    "# time_to_first_post_days\n",
    "\n",
    "# convert to datetime  and strip timezones\n",
    "df_features['created_at'] = pd.to_datetime(df_features['created_at'], errors='coerce').dt.tz_localize(None)\n",
    "df_features['first_post_created_at'] = pd.to_datetime(df_features['first_post_created_at'], errors='coerce').dt.tz_localize(None)\n",
    "\n",
    "# subtract\n",
    "df_features['time_to_first_post_days'] = (\n",
    "    df_features['first_post_created_at'] - df_features['created_at']\n",
    ").dt.total_seconds() / (60 * 60 * 24)\n"
   ],
   "metadata": {
    "collapsed": false
   }
  },
  {
   "cell_type": "code",
   "execution_count": 29,
   "outputs": [
    {
     "data": {
      "text/plain": "                                    did                      handle  \\\n0      did:plc:ooehugjick2vkzwlr64lephm        haleaziz.bsky.social   \n1      did:plc:qy3kg6jvtlhenv5ojqurynwh     joshuacroke.bsky.social   \n2      did:plc:ibqwicj6ersmvw36yldikozx  inspiringtimmy.bsky.social   \n3      did:plc:f4ultoamz3y2m4drcjvhoecu  wilmonstouches.bsky.social   \n4      did:plc:yzhdirwmonvaezndwnssoosd      kerrieneet.bsky.social   \n...                                 ...                         ...   \n23330  did:plc:67yljp3x2ggfmtouqhzm23ax     quigonejinn.bsky.social   \n23331  did:plc:64vgrlkpc25gq7dzgv4wk4fz     raywillmott.bsky.social   \n23332  did:plc:ld6amztvyqa6dkyfpuw7agz3        madrigal.bsky.social   \n23333  did:plc:ifcposy3e6frphvetobi7mva       foxpopvli.bsky.social   \n23334  did:plc:tdque7aiu4isr7w2ykaxmidz    jayhulmepoet.bsky.social   \n\n                                                     bio  \\\n0      I cover DHS and immigration policy for the New...   \n1      Founder of 🏳️‍🌈 queerforcities.com / 🌈loveyour...   \n2      Best known for watching the Queen's Gambit fro...   \n3      same name but not rosh‘s ex | #OMAR : ”oh, tha...   \n4      Wild places in the SW and beyond. Where to go?...   \n...                                                  ...   \n23330                                                NaN   \n23331  Some Welsh Brand Manager in games @rawfury.bsk...   \n23332  I have a shiny, smooth coat and a precise, int...   \n23333  🔸 Anthros, Cars and Nostalgia\\n🔸 100% Natural ...   \n23334  Poet. Speaker. Educator. Performer. Adult, YA,...   \n\n                   created_at   first_post_created_at  \\\n0     2024-11-18 15:39:52.581 2024-11-16 20:04:59.812   \n1     2024-11-15 11:45:12.223 2024-11-15 07:36:53.045   \n2     2024-11-06 08:11:15.881 2024-11-14 10:18:29.817   \n3     2024-11-15 17:01:25.026 2024-11-15 17:20:49.418   \n4     2024-11-20 01:32:25.972 2024-11-21 08:01:57.791   \n...                       ...                     ...   \n23330 2023-07-25 19:58:17.493                     NaT   \n23331 2023-07-23 23:19:36.113                     NaT   \n23332 2023-07-04 16:56:13.032                     NaT   \n23333 2023-07-19 23:27:01.452                     NaT   \n23334 2023-07-04 11:39:24.158                     NaT   \n\n                                         first_post_body  bio length  \\\n0      If Trump-Miller-Homan want to shut down the ri...       102.0   \n1      A they/them here for good trouble and out to m...       219.0   \n2                         Foundations day 3\\n\\nlive now!       230.0   \n3      it‘s cuz the nice ones switched to here and th...       126.0   \n4                               I would love to be added       255.0   \n...                                                  ...         ...   \n23330  and yeah, I believe, deeply, that’s the kind o...         NaN   \n23331  Made a curry tonight. One mouthful later and I...       143.0   \n23332  Being an earthworm would be awesome. If you ge...       186.0   \n23333                    The fox waifu <3\\n\\n#art #furry       101.0   \n23334  “Look, I just don’t understand how Charles is ...       173.0   \n\n       first post body length  bio_has_emoji  bio_emoji_count  post_has_emoji  \\\n0                       299.0              0                0               0   \n1                       300.0              1                9               1   \n2                        28.0              0                0               0   \n3                        71.0              0                0               0   \n4                        24.0              0                0               0   \n...                       ...            ...              ...             ...   \n23330                   256.0              0                0               0   \n23331                   124.0              0                0               1   \n23332                   129.0              0                0               0   \n23333                    29.0              1                3               0   \n23334                   131.0              0                0               0   \n\n       post_emoji_count  time_to_first_post_days  \n0                     0                -1.815889  \n1                     6                -0.172444  \n2                     0                 8.088356  \n3                     0                 0.013477  \n4                     0                 1.270507  \n...                 ...                      ...  \n23330                 0                      NaN  \n23331                 1                      NaN  \n23332                 0                      NaN  \n23333                 0                      NaN  \n23334                 0                      NaN  \n\n[23335 rows x 13 columns]",
      "text/html": "<div>\n<style scoped>\n    .dataframe tbody tr th:only-of-type {\n        vertical-align: middle;\n    }\n\n    .dataframe tbody tr th {\n        vertical-align: top;\n    }\n\n    .dataframe thead th {\n        text-align: right;\n    }\n</style>\n<table border=\"1\" class=\"dataframe\">\n  <thead>\n    <tr style=\"text-align: right;\">\n      <th></th>\n      <th>did</th>\n      <th>handle</th>\n      <th>bio</th>\n      <th>created_at</th>\n      <th>first_post_created_at</th>\n      <th>first_post_body</th>\n      <th>bio length</th>\n      <th>first post body length</th>\n      <th>bio_has_emoji</th>\n      <th>bio_emoji_count</th>\n      <th>post_has_emoji</th>\n      <th>post_emoji_count</th>\n      <th>time_to_first_post_days</th>\n    </tr>\n  </thead>\n  <tbody>\n    <tr>\n      <th>0</th>\n      <td>did:plc:ooehugjick2vkzwlr64lephm</td>\n      <td>haleaziz.bsky.social</td>\n      <td>I cover DHS and immigration policy for the New...</td>\n      <td>2024-11-18 15:39:52.581</td>\n      <td>2024-11-16 20:04:59.812</td>\n      <td>If Trump-Miller-Homan want to shut down the ri...</td>\n      <td>102.0</td>\n      <td>299.0</td>\n      <td>0</td>\n      <td>0</td>\n      <td>0</td>\n      <td>0</td>\n      <td>-1.815889</td>\n    </tr>\n    <tr>\n      <th>1</th>\n      <td>did:plc:qy3kg6jvtlhenv5ojqurynwh</td>\n      <td>joshuacroke.bsky.social</td>\n      <td>Founder of 🏳️‍🌈 queerforcities.com / 🌈loveyour...</td>\n      <td>2024-11-15 11:45:12.223</td>\n      <td>2024-11-15 07:36:53.045</td>\n      <td>A they/them here for good trouble and out to m...</td>\n      <td>219.0</td>\n      <td>300.0</td>\n      <td>1</td>\n      <td>9</td>\n      <td>1</td>\n      <td>6</td>\n      <td>-0.172444</td>\n    </tr>\n    <tr>\n      <th>2</th>\n      <td>did:plc:ibqwicj6ersmvw36yldikozx</td>\n      <td>inspiringtimmy.bsky.social</td>\n      <td>Best known for watching the Queen's Gambit fro...</td>\n      <td>2024-11-06 08:11:15.881</td>\n      <td>2024-11-14 10:18:29.817</td>\n      <td>Foundations day 3\\n\\nlive now!</td>\n      <td>230.0</td>\n      <td>28.0</td>\n      <td>0</td>\n      <td>0</td>\n      <td>0</td>\n      <td>0</td>\n      <td>8.088356</td>\n    </tr>\n    <tr>\n      <th>3</th>\n      <td>did:plc:f4ultoamz3y2m4drcjvhoecu</td>\n      <td>wilmonstouches.bsky.social</td>\n      <td>same name but not rosh‘s ex | #OMAR : ”oh, tha...</td>\n      <td>2024-11-15 17:01:25.026</td>\n      <td>2024-11-15 17:20:49.418</td>\n      <td>it‘s cuz the nice ones switched to here and th...</td>\n      <td>126.0</td>\n      <td>71.0</td>\n      <td>0</td>\n      <td>0</td>\n      <td>0</td>\n      <td>0</td>\n      <td>0.013477</td>\n    </tr>\n    <tr>\n      <th>4</th>\n      <td>did:plc:yzhdirwmonvaezndwnssoosd</td>\n      <td>kerrieneet.bsky.social</td>\n      <td>Wild places in the SW and beyond. Where to go?...</td>\n      <td>2024-11-20 01:32:25.972</td>\n      <td>2024-11-21 08:01:57.791</td>\n      <td>I would love to be added</td>\n      <td>255.0</td>\n      <td>24.0</td>\n      <td>0</td>\n      <td>0</td>\n      <td>0</td>\n      <td>0</td>\n      <td>1.270507</td>\n    </tr>\n    <tr>\n      <th>...</th>\n      <td>...</td>\n      <td>...</td>\n      <td>...</td>\n      <td>...</td>\n      <td>...</td>\n      <td>...</td>\n      <td>...</td>\n      <td>...</td>\n      <td>...</td>\n      <td>...</td>\n      <td>...</td>\n      <td>...</td>\n      <td>...</td>\n    </tr>\n    <tr>\n      <th>23330</th>\n      <td>did:plc:67yljp3x2ggfmtouqhzm23ax</td>\n      <td>quigonejinn.bsky.social</td>\n      <td>NaN</td>\n      <td>2023-07-25 19:58:17.493</td>\n      <td>NaT</td>\n      <td>and yeah, I believe, deeply, that’s the kind o...</td>\n      <td>NaN</td>\n      <td>256.0</td>\n      <td>0</td>\n      <td>0</td>\n      <td>0</td>\n      <td>0</td>\n      <td>NaN</td>\n    </tr>\n    <tr>\n      <th>23331</th>\n      <td>did:plc:64vgrlkpc25gq7dzgv4wk4fz</td>\n      <td>raywillmott.bsky.social</td>\n      <td>Some Welsh Brand Manager in games @rawfury.bsk...</td>\n      <td>2023-07-23 23:19:36.113</td>\n      <td>NaT</td>\n      <td>Made a curry tonight. One mouthful later and I...</td>\n      <td>143.0</td>\n      <td>124.0</td>\n      <td>0</td>\n      <td>0</td>\n      <td>1</td>\n      <td>1</td>\n      <td>NaN</td>\n    </tr>\n    <tr>\n      <th>23332</th>\n      <td>did:plc:ld6amztvyqa6dkyfpuw7agz3</td>\n      <td>madrigal.bsky.social</td>\n      <td>I have a shiny, smooth coat and a precise, int...</td>\n      <td>2023-07-04 16:56:13.032</td>\n      <td>NaT</td>\n      <td>Being an earthworm would be awesome. If you ge...</td>\n      <td>186.0</td>\n      <td>129.0</td>\n      <td>0</td>\n      <td>0</td>\n      <td>0</td>\n      <td>0</td>\n      <td>NaN</td>\n    </tr>\n    <tr>\n      <th>23333</th>\n      <td>did:plc:ifcposy3e6frphvetobi7mva</td>\n      <td>foxpopvli.bsky.social</td>\n      <td>🔸 Anthros, Cars and Nostalgia\\n🔸 100% Natural ...</td>\n      <td>2023-07-19 23:27:01.452</td>\n      <td>NaT</td>\n      <td>The fox waifu &lt;3\\n\\n#art #furry</td>\n      <td>101.0</td>\n      <td>29.0</td>\n      <td>1</td>\n      <td>3</td>\n      <td>0</td>\n      <td>0</td>\n      <td>NaN</td>\n    </tr>\n    <tr>\n      <th>23334</th>\n      <td>did:plc:tdque7aiu4isr7w2ykaxmidz</td>\n      <td>jayhulmepoet.bsky.social</td>\n      <td>Poet. Speaker. Educator. Performer. Adult, YA,...</td>\n      <td>2023-07-04 11:39:24.158</td>\n      <td>NaT</td>\n      <td>“Look, I just don’t understand how Charles is ...</td>\n      <td>173.0</td>\n      <td>131.0</td>\n      <td>0</td>\n      <td>0</td>\n      <td>0</td>\n      <td>0</td>\n      <td>NaN</td>\n    </tr>\n  </tbody>\n</table>\n<p>23335 rows × 13 columns</p>\n</div>"
     },
     "execution_count": 29,
     "metadata": {},
     "output_type": "execute_result"
    }
   ],
   "source": [
    "df_features"
   ],
   "metadata": {
    "collapsed": false
   }
  },
  {
   "cell_type": "code",
   "execution_count": 30,
   "outputs": [],
   "source": [
    "# bio_has_hashtag, bio_hashtag_count, post_has_hashtag, post_hashtag_count\n",
    "\n",
    "\n",
    "import re\n",
    "\n",
    "# hashtag pattern: matches # followed by letters, numbers, or underscores\n",
    "hashtag_pattern = re.compile(r\"#\\w+\")\n",
    "\n",
    "# check if any hashtags\n",
    "def has_hashtag(text):\n",
    "    if pd.isnull(text):\n",
    "        return 0\n",
    "    return 1 if hashtag_pattern.search(text) else 0\n",
    "\n",
    "# count how many hashtags\n",
    "def count_hashtags(text):\n",
    "    if pd.isnull(text):\n",
    "        return 0\n",
    "    return len(hashtag_pattern.findall(text))\n",
    "\n",
    "# apply to bio\n",
    "df_features['bio_has_hashtag'] = df_features['bio'].apply(has_hashtag)\n",
    "df_features['bio_hashtag_count'] = df_features['bio'].apply(count_hashtags)\n",
    "\n",
    "# apply to first_post_body\n",
    "df_features['post_has_hashtag'] = df_features['first_post_body'].apply(has_hashtag)\n",
    "df_features['post_hashtag_count'] = df_features['first_post_body'].apply(count_hashtags)\n"
   ],
   "metadata": {
    "collapsed": false
   }
  },
  {
   "cell_type": "code",
   "execution_count": 31,
   "outputs": [
    {
     "data": {
      "text/plain": "                                    did                      handle  \\\n0      did:plc:ooehugjick2vkzwlr64lephm        haleaziz.bsky.social   \n1      did:plc:qy3kg6jvtlhenv5ojqurynwh     joshuacroke.bsky.social   \n2      did:plc:ibqwicj6ersmvw36yldikozx  inspiringtimmy.bsky.social   \n3      did:plc:f4ultoamz3y2m4drcjvhoecu  wilmonstouches.bsky.social   \n4      did:plc:yzhdirwmonvaezndwnssoosd      kerrieneet.bsky.social   \n...                                 ...                         ...   \n23330  did:plc:67yljp3x2ggfmtouqhzm23ax     quigonejinn.bsky.social   \n23331  did:plc:64vgrlkpc25gq7dzgv4wk4fz     raywillmott.bsky.social   \n23332  did:plc:ld6amztvyqa6dkyfpuw7agz3        madrigal.bsky.social   \n23333  did:plc:ifcposy3e6frphvetobi7mva       foxpopvli.bsky.social   \n23334  did:plc:tdque7aiu4isr7w2ykaxmidz    jayhulmepoet.bsky.social   \n\n                                                     bio  \\\n0      I cover DHS and immigration policy for the New...   \n1      Founder of 🏳️‍🌈 queerforcities.com / 🌈loveyour...   \n2      Best known for watching the Queen's Gambit fro...   \n3      same name but not rosh‘s ex | #OMAR : ”oh, tha...   \n4      Wild places in the SW and beyond. Where to go?...   \n...                                                  ...   \n23330                                                NaN   \n23331  Some Welsh Brand Manager in games @rawfury.bsk...   \n23332  I have a shiny, smooth coat and a precise, int...   \n23333  🔸 Anthros, Cars and Nostalgia\\n🔸 100% Natural ...   \n23334  Poet. Speaker. Educator. Performer. Adult, YA,...   \n\n                   created_at   first_post_created_at  \\\n0     2024-11-18 15:39:52.581 2024-11-16 20:04:59.812   \n1     2024-11-15 11:45:12.223 2024-11-15 07:36:53.045   \n2     2024-11-06 08:11:15.881 2024-11-14 10:18:29.817   \n3     2024-11-15 17:01:25.026 2024-11-15 17:20:49.418   \n4     2024-11-20 01:32:25.972 2024-11-21 08:01:57.791   \n...                       ...                     ...   \n23330 2023-07-25 19:58:17.493                     NaT   \n23331 2023-07-23 23:19:36.113                     NaT   \n23332 2023-07-04 16:56:13.032                     NaT   \n23333 2023-07-19 23:27:01.452                     NaT   \n23334 2023-07-04 11:39:24.158                     NaT   \n\n                                         first_post_body  bio length  \\\n0      If Trump-Miller-Homan want to shut down the ri...       102.0   \n1      A they/them here for good trouble and out to m...       219.0   \n2                         Foundations day 3\\n\\nlive now!       230.0   \n3      it‘s cuz the nice ones switched to here and th...       126.0   \n4                               I would love to be added       255.0   \n...                                                  ...         ...   \n23330  and yeah, I believe, deeply, that’s the kind o...         NaN   \n23331  Made a curry tonight. One mouthful later and I...       143.0   \n23332  Being an earthworm would be awesome. If you ge...       186.0   \n23333                    The fox waifu <3\\n\\n#art #furry       101.0   \n23334  “Look, I just don’t understand how Charles is ...       173.0   \n\n       first post body length  bio_has_emoji  bio_emoji_count  post_has_emoji  \\\n0                       299.0              0                0               0   \n1                       300.0              1                9               1   \n2                        28.0              0                0               0   \n3                        71.0              0                0               0   \n4                        24.0              0                0               0   \n...                       ...            ...              ...             ...   \n23330                   256.0              0                0               0   \n23331                   124.0              0                0               1   \n23332                   129.0              0                0               0   \n23333                    29.0              1                3               0   \n23334                   131.0              0                0               0   \n\n       post_emoji_count  time_to_first_post_days  bio_has_hashtag  \\\n0                     0                -1.815889                0   \n1                     6                -0.172444                1   \n2                     0                 8.088356                0   \n3                     0                 0.013477                1   \n4                     0                 1.270507                1   \n...                 ...                      ...              ...   \n23330                 0                      NaN                0   \n23331                 1                      NaN                0   \n23332                 0                      NaN                0   \n23333                 0                      NaN                0   \n23334                 0                      NaN                0   \n\n       bio_hashtag_count  post_has_hashtag  post_hashtag_count  \n0                      0                 0                   0  \n1                      1                 1                   1  \n2                      0                 0                   0  \n3                      1                 0                   0  \n4                      7                 0                   0  \n...                  ...               ...                 ...  \n23330                  0                 0                   0  \n23331                  0                 0                   0  \n23332                  0                 0                   0  \n23333                  0                 1                   2  \n23334                  0                 0                   0  \n\n[23335 rows x 17 columns]",
      "text/html": "<div>\n<style scoped>\n    .dataframe tbody tr th:only-of-type {\n        vertical-align: middle;\n    }\n\n    .dataframe tbody tr th {\n        vertical-align: top;\n    }\n\n    .dataframe thead th {\n        text-align: right;\n    }\n</style>\n<table border=\"1\" class=\"dataframe\">\n  <thead>\n    <tr style=\"text-align: right;\">\n      <th></th>\n      <th>did</th>\n      <th>handle</th>\n      <th>bio</th>\n      <th>created_at</th>\n      <th>first_post_created_at</th>\n      <th>first_post_body</th>\n      <th>bio length</th>\n      <th>first post body length</th>\n      <th>bio_has_emoji</th>\n      <th>bio_emoji_count</th>\n      <th>post_has_emoji</th>\n      <th>post_emoji_count</th>\n      <th>time_to_first_post_days</th>\n      <th>bio_has_hashtag</th>\n      <th>bio_hashtag_count</th>\n      <th>post_has_hashtag</th>\n      <th>post_hashtag_count</th>\n    </tr>\n  </thead>\n  <tbody>\n    <tr>\n      <th>0</th>\n      <td>did:plc:ooehugjick2vkzwlr64lephm</td>\n      <td>haleaziz.bsky.social</td>\n      <td>I cover DHS and immigration policy for the New...</td>\n      <td>2024-11-18 15:39:52.581</td>\n      <td>2024-11-16 20:04:59.812</td>\n      <td>If Trump-Miller-Homan want to shut down the ri...</td>\n      <td>102.0</td>\n      <td>299.0</td>\n      <td>0</td>\n      <td>0</td>\n      <td>0</td>\n      <td>0</td>\n      <td>-1.815889</td>\n      <td>0</td>\n      <td>0</td>\n      <td>0</td>\n      <td>0</td>\n    </tr>\n    <tr>\n      <th>1</th>\n      <td>did:plc:qy3kg6jvtlhenv5ojqurynwh</td>\n      <td>joshuacroke.bsky.social</td>\n      <td>Founder of 🏳️‍🌈 queerforcities.com / 🌈loveyour...</td>\n      <td>2024-11-15 11:45:12.223</td>\n      <td>2024-11-15 07:36:53.045</td>\n      <td>A they/them here for good trouble and out to m...</td>\n      <td>219.0</td>\n      <td>300.0</td>\n      <td>1</td>\n      <td>9</td>\n      <td>1</td>\n      <td>6</td>\n      <td>-0.172444</td>\n      <td>1</td>\n      <td>1</td>\n      <td>1</td>\n      <td>1</td>\n    </tr>\n    <tr>\n      <th>2</th>\n      <td>did:plc:ibqwicj6ersmvw36yldikozx</td>\n      <td>inspiringtimmy.bsky.social</td>\n      <td>Best known for watching the Queen's Gambit fro...</td>\n      <td>2024-11-06 08:11:15.881</td>\n      <td>2024-11-14 10:18:29.817</td>\n      <td>Foundations day 3\\n\\nlive now!</td>\n      <td>230.0</td>\n      <td>28.0</td>\n      <td>0</td>\n      <td>0</td>\n      <td>0</td>\n      <td>0</td>\n      <td>8.088356</td>\n      <td>0</td>\n      <td>0</td>\n      <td>0</td>\n      <td>0</td>\n    </tr>\n    <tr>\n      <th>3</th>\n      <td>did:plc:f4ultoamz3y2m4drcjvhoecu</td>\n      <td>wilmonstouches.bsky.social</td>\n      <td>same name but not rosh‘s ex | #OMAR : ”oh, tha...</td>\n      <td>2024-11-15 17:01:25.026</td>\n      <td>2024-11-15 17:20:49.418</td>\n      <td>it‘s cuz the nice ones switched to here and th...</td>\n      <td>126.0</td>\n      <td>71.0</td>\n      <td>0</td>\n      <td>0</td>\n      <td>0</td>\n      <td>0</td>\n      <td>0.013477</td>\n      <td>1</td>\n      <td>1</td>\n      <td>0</td>\n      <td>0</td>\n    </tr>\n    <tr>\n      <th>4</th>\n      <td>did:plc:yzhdirwmonvaezndwnssoosd</td>\n      <td>kerrieneet.bsky.social</td>\n      <td>Wild places in the SW and beyond. Where to go?...</td>\n      <td>2024-11-20 01:32:25.972</td>\n      <td>2024-11-21 08:01:57.791</td>\n      <td>I would love to be added</td>\n      <td>255.0</td>\n      <td>24.0</td>\n      <td>0</td>\n      <td>0</td>\n      <td>0</td>\n      <td>0</td>\n      <td>1.270507</td>\n      <td>1</td>\n      <td>7</td>\n      <td>0</td>\n      <td>0</td>\n    </tr>\n    <tr>\n      <th>...</th>\n      <td>...</td>\n      <td>...</td>\n      <td>...</td>\n      <td>...</td>\n      <td>...</td>\n      <td>...</td>\n      <td>...</td>\n      <td>...</td>\n      <td>...</td>\n      <td>...</td>\n      <td>...</td>\n      <td>...</td>\n      <td>...</td>\n      <td>...</td>\n      <td>...</td>\n      <td>...</td>\n      <td>...</td>\n    </tr>\n    <tr>\n      <th>23330</th>\n      <td>did:plc:67yljp3x2ggfmtouqhzm23ax</td>\n      <td>quigonejinn.bsky.social</td>\n      <td>NaN</td>\n      <td>2023-07-25 19:58:17.493</td>\n      <td>NaT</td>\n      <td>and yeah, I believe, deeply, that’s the kind o...</td>\n      <td>NaN</td>\n      <td>256.0</td>\n      <td>0</td>\n      <td>0</td>\n      <td>0</td>\n      <td>0</td>\n      <td>NaN</td>\n      <td>0</td>\n      <td>0</td>\n      <td>0</td>\n      <td>0</td>\n    </tr>\n    <tr>\n      <th>23331</th>\n      <td>did:plc:64vgrlkpc25gq7dzgv4wk4fz</td>\n      <td>raywillmott.bsky.social</td>\n      <td>Some Welsh Brand Manager in games @rawfury.bsk...</td>\n      <td>2023-07-23 23:19:36.113</td>\n      <td>NaT</td>\n      <td>Made a curry tonight. One mouthful later and I...</td>\n      <td>143.0</td>\n      <td>124.0</td>\n      <td>0</td>\n      <td>0</td>\n      <td>1</td>\n      <td>1</td>\n      <td>NaN</td>\n      <td>0</td>\n      <td>0</td>\n      <td>0</td>\n      <td>0</td>\n    </tr>\n    <tr>\n      <th>23332</th>\n      <td>did:plc:ld6amztvyqa6dkyfpuw7agz3</td>\n      <td>madrigal.bsky.social</td>\n      <td>I have a shiny, smooth coat and a precise, int...</td>\n      <td>2023-07-04 16:56:13.032</td>\n      <td>NaT</td>\n      <td>Being an earthworm would be awesome. If you ge...</td>\n      <td>186.0</td>\n      <td>129.0</td>\n      <td>0</td>\n      <td>0</td>\n      <td>0</td>\n      <td>0</td>\n      <td>NaN</td>\n      <td>0</td>\n      <td>0</td>\n      <td>0</td>\n      <td>0</td>\n    </tr>\n    <tr>\n      <th>23333</th>\n      <td>did:plc:ifcposy3e6frphvetobi7mva</td>\n      <td>foxpopvli.bsky.social</td>\n      <td>🔸 Anthros, Cars and Nostalgia\\n🔸 100% Natural ...</td>\n      <td>2023-07-19 23:27:01.452</td>\n      <td>NaT</td>\n      <td>The fox waifu &lt;3\\n\\n#art #furry</td>\n      <td>101.0</td>\n      <td>29.0</td>\n      <td>1</td>\n      <td>3</td>\n      <td>0</td>\n      <td>0</td>\n      <td>NaN</td>\n      <td>0</td>\n      <td>0</td>\n      <td>1</td>\n      <td>2</td>\n    </tr>\n    <tr>\n      <th>23334</th>\n      <td>did:plc:tdque7aiu4isr7w2ykaxmidz</td>\n      <td>jayhulmepoet.bsky.social</td>\n      <td>Poet. Speaker. Educator. Performer. Adult, YA,...</td>\n      <td>2023-07-04 11:39:24.158</td>\n      <td>NaT</td>\n      <td>“Look, I just don’t understand how Charles is ...</td>\n      <td>173.0</td>\n      <td>131.0</td>\n      <td>0</td>\n      <td>0</td>\n      <td>0</td>\n      <td>0</td>\n      <td>NaN</td>\n      <td>0</td>\n      <td>0</td>\n      <td>0</td>\n      <td>0</td>\n    </tr>\n  </tbody>\n</table>\n<p>23335 rows × 17 columns</p>\n</div>"
     },
     "execution_count": 31,
     "metadata": {},
     "output_type": "execute_result"
    }
   ],
   "source": [
    "df_features"
   ],
   "metadata": {
    "collapsed": false
   }
  },
  {
   "cell_type": "code",
   "execution_count": 32,
   "outputs": [
    {
     "data": {
      "text/plain": "                                    did                      handle  \\\n0      did:plc:ooehugjick2vkzwlr64lephm        haleaziz.bsky.social   \n1      did:plc:qy3kg6jvtlhenv5ojqurynwh     joshuacroke.bsky.social   \n2      did:plc:ibqwicj6ersmvw36yldikozx  inspiringtimmy.bsky.social   \n3      did:plc:f4ultoamz3y2m4drcjvhoecu  wilmonstouches.bsky.social   \n4      did:plc:yzhdirwmonvaezndwnssoosd      kerrieneet.bsky.social   \n...                                 ...                         ...   \n23330  did:plc:67yljp3x2ggfmtouqhzm23ax     quigonejinn.bsky.social   \n23331  did:plc:64vgrlkpc25gq7dzgv4wk4fz     raywillmott.bsky.social   \n23332  did:plc:ld6amztvyqa6dkyfpuw7agz3        madrigal.bsky.social   \n23333  did:plc:ifcposy3e6frphvetobi7mva       foxpopvli.bsky.social   \n23334  did:plc:tdque7aiu4isr7w2ykaxmidz    jayhulmepoet.bsky.social   \n\n                                                     bio  \\\n0      I cover DHS and immigration policy for the New...   \n1      Founder of 🏳️‍🌈 queerforcities.com / 🌈loveyour...   \n2      Best known for watching the Queen's Gambit fro...   \n3      same name but not rosh‘s ex | #OMAR : ”oh, tha...   \n4      Wild places in the SW and beyond. Where to go?...   \n...                                                  ...   \n23330                                                NaN   \n23331  Some Welsh Brand Manager in games @rawfury.bsk...   \n23332  I have a shiny, smooth coat and a precise, int...   \n23333  🔸 Anthros, Cars and Nostalgia\\n🔸 100% Natural ...   \n23334  Poet. Speaker. Educator. Performer. Adult, YA,...   \n\n                   created_at   first_post_created_at  \\\n0     2024-11-18 15:39:52.581 2024-11-16 20:04:59.812   \n1     2024-11-15 11:45:12.223 2024-11-15 07:36:53.045   \n2     2024-11-06 08:11:15.881 2024-11-14 10:18:29.817   \n3     2024-11-15 17:01:25.026 2024-11-15 17:20:49.418   \n4     2024-11-20 01:32:25.972 2024-11-21 08:01:57.791   \n...                       ...                     ...   \n23330 2023-07-25 19:58:17.493                     NaT   \n23331 2023-07-23 23:19:36.113                     NaT   \n23332 2023-07-04 16:56:13.032                     NaT   \n23333 2023-07-19 23:27:01.452                     NaT   \n23334 2023-07-04 11:39:24.158                     NaT   \n\n                                         first_post_body  bio length  \\\n0      If Trump-Miller-Homan want to shut down the ri...       102.0   \n1      A they/them here for good trouble and out to m...       219.0   \n2                         Foundations day 3\\n\\nlive now!       230.0   \n3      it‘s cuz the nice ones switched to here and th...       126.0   \n4                               I would love to be added       255.0   \n...                                                  ...         ...   \n23330  and yeah, I believe, deeply, that’s the kind o...         NaN   \n23331  Made a curry tonight. One mouthful later and I...       143.0   \n23332  Being an earthworm would be awesome. If you ge...       186.0   \n23333                    The fox waifu <3\\n\\n#art #furry       101.0   \n23334  “Look, I just don’t understand how Charles is ...       173.0   \n\n       first post body length  bio_has_emoji  bio_emoji_count  post_has_emoji  \\\n0                       299.0              0                0               0   \n1                       300.0              1                9               1   \n2                        28.0              0                0               0   \n3                        71.0              0                0               0   \n4                        24.0              0                0               0   \n...                       ...            ...              ...             ...   \n23330                   256.0              0                0               0   \n23331                   124.0              0                0               1   \n23332                   129.0              0                0               0   \n23333                    29.0              1                3               0   \n23334                   131.0              0                0               0   \n\n       post_emoji_count  time_to_first_post_days  bio_has_hashtag  \\\n0                     0                -1.815889                0   \n1                     6                -0.172444                1   \n2                     0                 8.088356                0   \n3                     0                 0.013477                1   \n4                     0                 1.270507                1   \n...                 ...                      ...              ...   \n23330                 0                      NaN                0   \n23331                 1                      NaN                0   \n23332                 0                      NaN                0   \n23333                 0                      NaN                0   \n23334                 0                      NaN                0   \n\n       bio_hashtag_count  post_has_hashtag  post_hashtag_count  \n0                      0                 0                   0  \n1                      1                 1                   1  \n2                      0                 0                   0  \n3                      1                 0                   0  \n4                      7                 0                   0  \n...                  ...               ...                 ...  \n23330                  0                 0                   0  \n23331                  0                 0                   0  \n23332                  0                 0                   0  \n23333                  0                 1                   2  \n23334                  0                 0                   0  \n\n[23335 rows x 17 columns]",
      "text/html": "<div>\n<style scoped>\n    .dataframe tbody tr th:only-of-type {\n        vertical-align: middle;\n    }\n\n    .dataframe tbody tr th {\n        vertical-align: top;\n    }\n\n    .dataframe thead th {\n        text-align: right;\n    }\n</style>\n<table border=\"1\" class=\"dataframe\">\n  <thead>\n    <tr style=\"text-align: right;\">\n      <th></th>\n      <th>did</th>\n      <th>handle</th>\n      <th>bio</th>\n      <th>created_at</th>\n      <th>first_post_created_at</th>\n      <th>first_post_body</th>\n      <th>bio length</th>\n      <th>first post body length</th>\n      <th>bio_has_emoji</th>\n      <th>bio_emoji_count</th>\n      <th>post_has_emoji</th>\n      <th>post_emoji_count</th>\n      <th>time_to_first_post_days</th>\n      <th>bio_has_hashtag</th>\n      <th>bio_hashtag_count</th>\n      <th>post_has_hashtag</th>\n      <th>post_hashtag_count</th>\n    </tr>\n  </thead>\n  <tbody>\n    <tr>\n      <th>0</th>\n      <td>did:plc:ooehugjick2vkzwlr64lephm</td>\n      <td>haleaziz.bsky.social</td>\n      <td>I cover DHS and immigration policy for the New...</td>\n      <td>2024-11-18 15:39:52.581</td>\n      <td>2024-11-16 20:04:59.812</td>\n      <td>If Trump-Miller-Homan want to shut down the ri...</td>\n      <td>102.0</td>\n      <td>299.0</td>\n      <td>0</td>\n      <td>0</td>\n      <td>0</td>\n      <td>0</td>\n      <td>-1.815889</td>\n      <td>0</td>\n      <td>0</td>\n      <td>0</td>\n      <td>0</td>\n    </tr>\n    <tr>\n      <th>1</th>\n      <td>did:plc:qy3kg6jvtlhenv5ojqurynwh</td>\n      <td>joshuacroke.bsky.social</td>\n      <td>Founder of 🏳️‍🌈 queerforcities.com / 🌈loveyour...</td>\n      <td>2024-11-15 11:45:12.223</td>\n      <td>2024-11-15 07:36:53.045</td>\n      <td>A they/them here for good trouble and out to m...</td>\n      <td>219.0</td>\n      <td>300.0</td>\n      <td>1</td>\n      <td>9</td>\n      <td>1</td>\n      <td>6</td>\n      <td>-0.172444</td>\n      <td>1</td>\n      <td>1</td>\n      <td>1</td>\n      <td>1</td>\n    </tr>\n    <tr>\n      <th>2</th>\n      <td>did:plc:ibqwicj6ersmvw36yldikozx</td>\n      <td>inspiringtimmy.bsky.social</td>\n      <td>Best known for watching the Queen's Gambit fro...</td>\n      <td>2024-11-06 08:11:15.881</td>\n      <td>2024-11-14 10:18:29.817</td>\n      <td>Foundations day 3\\n\\nlive now!</td>\n      <td>230.0</td>\n      <td>28.0</td>\n      <td>0</td>\n      <td>0</td>\n      <td>0</td>\n      <td>0</td>\n      <td>8.088356</td>\n      <td>0</td>\n      <td>0</td>\n      <td>0</td>\n      <td>0</td>\n    </tr>\n    <tr>\n      <th>3</th>\n      <td>did:plc:f4ultoamz3y2m4drcjvhoecu</td>\n      <td>wilmonstouches.bsky.social</td>\n      <td>same name but not rosh‘s ex | #OMAR : ”oh, tha...</td>\n      <td>2024-11-15 17:01:25.026</td>\n      <td>2024-11-15 17:20:49.418</td>\n      <td>it‘s cuz the nice ones switched to here and th...</td>\n      <td>126.0</td>\n      <td>71.0</td>\n      <td>0</td>\n      <td>0</td>\n      <td>0</td>\n      <td>0</td>\n      <td>0.013477</td>\n      <td>1</td>\n      <td>1</td>\n      <td>0</td>\n      <td>0</td>\n    </tr>\n    <tr>\n      <th>4</th>\n      <td>did:plc:yzhdirwmonvaezndwnssoosd</td>\n      <td>kerrieneet.bsky.social</td>\n      <td>Wild places in the SW and beyond. Where to go?...</td>\n      <td>2024-11-20 01:32:25.972</td>\n      <td>2024-11-21 08:01:57.791</td>\n      <td>I would love to be added</td>\n      <td>255.0</td>\n      <td>24.0</td>\n      <td>0</td>\n      <td>0</td>\n      <td>0</td>\n      <td>0</td>\n      <td>1.270507</td>\n      <td>1</td>\n      <td>7</td>\n      <td>0</td>\n      <td>0</td>\n    </tr>\n    <tr>\n      <th>...</th>\n      <td>...</td>\n      <td>...</td>\n      <td>...</td>\n      <td>...</td>\n      <td>...</td>\n      <td>...</td>\n      <td>...</td>\n      <td>...</td>\n      <td>...</td>\n      <td>...</td>\n      <td>...</td>\n      <td>...</td>\n      <td>...</td>\n      <td>...</td>\n      <td>...</td>\n      <td>...</td>\n      <td>...</td>\n    </tr>\n    <tr>\n      <th>23330</th>\n      <td>did:plc:67yljp3x2ggfmtouqhzm23ax</td>\n      <td>quigonejinn.bsky.social</td>\n      <td>NaN</td>\n      <td>2023-07-25 19:58:17.493</td>\n      <td>NaT</td>\n      <td>and yeah, I believe, deeply, that’s the kind o...</td>\n      <td>NaN</td>\n      <td>256.0</td>\n      <td>0</td>\n      <td>0</td>\n      <td>0</td>\n      <td>0</td>\n      <td>NaN</td>\n      <td>0</td>\n      <td>0</td>\n      <td>0</td>\n      <td>0</td>\n    </tr>\n    <tr>\n      <th>23331</th>\n      <td>did:plc:64vgrlkpc25gq7dzgv4wk4fz</td>\n      <td>raywillmott.bsky.social</td>\n      <td>Some Welsh Brand Manager in games @rawfury.bsk...</td>\n      <td>2023-07-23 23:19:36.113</td>\n      <td>NaT</td>\n      <td>Made a curry tonight. One mouthful later and I...</td>\n      <td>143.0</td>\n      <td>124.0</td>\n      <td>0</td>\n      <td>0</td>\n      <td>1</td>\n      <td>1</td>\n      <td>NaN</td>\n      <td>0</td>\n      <td>0</td>\n      <td>0</td>\n      <td>0</td>\n    </tr>\n    <tr>\n      <th>23332</th>\n      <td>did:plc:ld6amztvyqa6dkyfpuw7agz3</td>\n      <td>madrigal.bsky.social</td>\n      <td>I have a shiny, smooth coat and a precise, int...</td>\n      <td>2023-07-04 16:56:13.032</td>\n      <td>NaT</td>\n      <td>Being an earthworm would be awesome. If you ge...</td>\n      <td>186.0</td>\n      <td>129.0</td>\n      <td>0</td>\n      <td>0</td>\n      <td>0</td>\n      <td>0</td>\n      <td>NaN</td>\n      <td>0</td>\n      <td>0</td>\n      <td>0</td>\n      <td>0</td>\n    </tr>\n    <tr>\n      <th>23333</th>\n      <td>did:plc:ifcposy3e6frphvetobi7mva</td>\n      <td>foxpopvli.bsky.social</td>\n      <td>🔸 Anthros, Cars and Nostalgia\\n🔸 100% Natural ...</td>\n      <td>2023-07-19 23:27:01.452</td>\n      <td>NaT</td>\n      <td>The fox waifu &lt;3\\n\\n#art #furry</td>\n      <td>101.0</td>\n      <td>29.0</td>\n      <td>1</td>\n      <td>3</td>\n      <td>0</td>\n      <td>0</td>\n      <td>NaN</td>\n      <td>0</td>\n      <td>0</td>\n      <td>1</td>\n      <td>2</td>\n    </tr>\n    <tr>\n      <th>23334</th>\n      <td>did:plc:tdque7aiu4isr7w2ykaxmidz</td>\n      <td>jayhulmepoet.bsky.social</td>\n      <td>Poet. Speaker. Educator. Performer. Adult, YA,...</td>\n      <td>2023-07-04 11:39:24.158</td>\n      <td>NaT</td>\n      <td>“Look, I just don’t understand how Charles is ...</td>\n      <td>173.0</td>\n      <td>131.0</td>\n      <td>0</td>\n      <td>0</td>\n      <td>0</td>\n      <td>0</td>\n      <td>NaN</td>\n      <td>0</td>\n      <td>0</td>\n      <td>0</td>\n      <td>0</td>\n    </tr>\n  </tbody>\n</table>\n<p>23335 rows × 17 columns</p>\n</div>"
     },
     "execution_count": 32,
     "metadata": {},
     "output_type": "execute_result"
    }
   ],
   "source": [
    "df_features"
   ],
   "metadata": {
    "collapsed": false
   }
  },
  {
   "cell_type": "code",
   "execution_count": 33,
   "outputs": [],
   "source": [
    "df_features.to_csv(\"df_features.csv\", index=False)\n"
   ],
   "metadata": {
    "collapsed": false
   }
  },
  {
   "cell_type": "code",
   "execution_count": null,
   "outputs": [],
   "source": [],
   "metadata": {
    "collapsed": false
   }
  }
 ],
 "metadata": {
  "kernelspec": {
   "display_name": "Python 3",
   "language": "python",
   "name": "python3"
  },
  "language_info": {
   "codemirror_mode": {
    "name": "ipython",
    "version": 2
   },
   "file_extension": ".py",
   "mimetype": "text/x-python",
   "name": "python",
   "nbconvert_exporter": "python",
   "pygments_lexer": "ipython2",
   "version": "2.7.6"
  }
 },
 "nbformat": 4,
 "nbformat_minor": 0
}
